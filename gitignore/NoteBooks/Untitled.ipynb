{
 "cells": [
  {
   "cell_type": "code",
   "execution_count": 18,
   "id": "c4d34d69-2c48-41b6-8fb5-185f6be33ea3",
   "metadata": {},
   "outputs": [
    {
     "name": "stdout",
     "output_type": "stream",
     "text": [
      "Grouped aggregation:\n",
      "        value\n",
      "group       \n",
      "1         30\n",
      "2         70\n",
      "\n",
      "Plain aggregation without groupby:\n",
      " value    100\n",
      "dtype: int64\n"
     ]
    },
    {
     "data": {
      "text/html": [
       "<div>\n",
       "<style scoped>\n",
       "    .dataframe tbody tr th:only-of-type {\n",
       "        vertical-align: middle;\n",
       "    }\n",
       "\n",
       "    .dataframe tbody tr th {\n",
       "        vertical-align: top;\n",
       "    }\n",
       "\n",
       "    .dataframe thead th {\n",
       "        text-align: right;\n",
       "    }\n",
       "</style>\n",
       "<table border=\"1\" class=\"dataframe\">\n",
       "  <thead>\n",
       "    <tr style=\"text-align: right;\">\n",
       "      <th></th>\n",
       "      <th>group</th>\n",
       "      <th>value</th>\n",
       "    </tr>\n",
       "  </thead>\n",
       "  <tbody>\n",
       "    <tr>\n",
       "      <th>0</th>\n",
       "      <td>1</td>\n",
       "      <td>10</td>\n",
       "    </tr>\n",
       "    <tr>\n",
       "      <th>1</th>\n",
       "      <td>1</td>\n",
       "      <td>20</td>\n",
       "    </tr>\n",
       "    <tr>\n",
       "      <th>2</th>\n",
       "      <td>2</td>\n",
       "      <td>30</td>\n",
       "    </tr>\n",
       "    <tr>\n",
       "      <th>3</th>\n",
       "      <td>2</td>\n",
       "      <td>40</td>\n",
       "    </tr>\n",
       "  </tbody>\n",
       "</table>\n",
       "</div>"
      ],
      "text/plain": [
       "   group  value\n",
       "0      1     10\n",
       "1      1     20\n",
       "2      2     30\n",
       "3      2     40"
      ]
     },
     "execution_count": 18,
     "metadata": {},
     "output_type": "execute_result"
    }
   ],
   "source": [
    "import pandas as pd\n",
    "\n",
    "df = pd.DataFrame({\n",
    "    'group': [1,1,2,2],\n",
    "    'value': [10,20,30,40]\n",
    "})\n",
    "\n",
    "# Using groupby + agg\n",
    "grouped_result = df.groupby('group').agg({'value':'sum'})\n",
    "print(\"Grouped aggregation:\\n\", grouped_result)\n",
    "\n",
    "# Using agg alone on the whole dataframe\n",
    "plain_result = df.agg({'value':'sum'})\n",
    "print(\"\\nPlain aggregation without groupby:\\n\", plain_result)\n",
    "\n",
    "df.head()\n",
    " # print(df['value'])"
   ]
  },
  {
   "cell_type": "code",
   "execution_count": 21,
   "id": "90a0e9af-4743-48e3-905c-b58a887ab994",
   "metadata": {},
   "outputs": [
    {
     "name": "stdout",
     "output_type": "stream",
     "text": [
      "\n",
      "1:\n",
      "    group  value\n",
      "0      1     10\n",
      "1      1     20\n",
      "\n",
      "2:\n",
      "    group  value\n",
      "2      2     30\n",
      "3      2     40\n"
     ]
    }
   ],
   "source": [
    "for name, group in df.groupby('group'):\n",
    "    print(f\"\\n{name}:\\n\", group)\n"
   ]
  },
  {
   "cell_type": "code",
   "execution_count": null,
   "id": "7d86b7c3-b4b2-4779-8789-4d4ff66825d1",
   "metadata": {},
   "outputs": [],
   "source": []
  }
 ],
 "metadata": {
  "kernelspec": {
   "display_name": "Python 3 (ipykernel)",
   "language": "python",
   "name": "python3"
  },
  "language_info": {
   "codemirror_mode": {
    "name": "ipython",
    "version": 3
   },
   "file_extension": ".py",
   "mimetype": "text/x-python",
   "name": "python",
   "nbconvert_exporter": "python",
   "pygments_lexer": "ipython3",
   "version": "3.13.5"
  }
 },
 "nbformat": 4,
 "nbformat_minor": 5
}
