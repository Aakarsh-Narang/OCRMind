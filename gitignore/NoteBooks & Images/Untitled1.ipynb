{
 "cells": [
  {
   "cell_type": "code",
   "execution_count": 4,
   "id": "35b563a0-899d-4452-9e0a-50779fb9b747",
   "metadata": {},
   "outputs": [],
   "source": [
    "import cv2\n",
    "import predictions as pred"
   ]
  },
  {
   "cell_type": "code",
   "execution_count": 5,
   "id": "f9adef63-99a6-4a74-ab0a-e3540faa6870",
   "metadata": {},
   "outputs": [],
   "source": [
    "img=cv2.imread('./Data/6.jpg')\n",
    "cv2.imshow('Org',img)\n",
    "cv2.waitKey(0)\n",
    "cv2.destroyAllWindows()"
   ]
  },
  {
   "cell_type": "code",
   "execution_count": 7,
   "id": "5de07ddc-f724-4e46-9712-9215ab935539",
   "metadata": {},
   "outputs": [
    {
     "name": "stdout",
     "output_type": "stream",
     "text": [
      "Cell 8099948528 Ga 8466045457 email lictsrikant@gmail.com LIFE INSURANCE CORPORATION OF INDIA seosrika ntht@gmail “com THATHINENI SRIKANTH Insurance Advisor Agent Code No. 0316164Y LIFE INSURANCE CORPORATION OF INDIA Br. Off. LIC Office, Trimulgherry, Sec’bad - 500 016. Add. Borabanda, Hyderabad - 500 018. lictsrikant8099948528.blogspot.in, interviewsinhyderabad.blogspot.in facebook.com/lictsrikant8099948528, facebook.com/thathineni.srikanth.9 Promote your business online PYBO\n",
      "{'NAME': [], 'ORG': ['Off'], 'DES': [], 'PHONE': ['8099948528', '8466045457'], 'EMAIL': ['lictsrikant@gmail.com', 'seosrikantht@gmail', 'insurance', 'br'], 'WEB': ['thathinenisrikanth', 'advisor', 'agent', 'no', 'lictsrikant8099948528.blogspot.in', 'interviewsinhyderabad.blogspot.in', 'pybo']}\n"
     ]
    }
   ],
   "source": [
    "img_res,ent=pred.getPredictions(img)\n",
    "print(ent)\n",
    "\n",
    "def resizer(image,width=500):\n",
    "    # get widht and height\n",
    "    h,w,c = image.shape\n",
    "    \n",
    "    height = int((h/w)* width )\n",
    "    size = (width,height)\n",
    "    image = cv2.resize(image,(width,height))\n",
    "    return image\n",
    "\n",
    "img_res2=resizer(img_res,800)\n",
    "cv2.imshow('Result',img_res2)\n",
    "cv2.waitKey(0)\n",
    "cv2.destroyAllWindows()"
   ]
  },
  {
   "cell_type": "code",
   "execution_count": null,
   "id": "7e23023c-d7c1-4c7a-9b82-d8d8830183fd",
   "metadata": {},
   "outputs": [],
   "source": []
  }
 ],
 "metadata": {
  "kernelspec": {
   "display_name": "Python 3 (ipykernel)",
   "language": "python",
   "name": "python3"
  },
  "language_info": {
   "codemirror_mode": {
    "name": "ipython",
    "version": 3
   },
   "file_extension": ".py",
   "mimetype": "text/x-python",
   "name": "python",
   "nbconvert_exporter": "python",
   "pygments_lexer": "ipython3",
   "version": "3.13.5"
  }
 },
 "nbformat": 4,
 "nbformat_minor": 5
}
