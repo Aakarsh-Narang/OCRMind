{
 "cells": [
  {
   "cell_type": "code",
   "execution_count": 1,
   "id": "5718f1ad-f477-4f8e-9bca-d5481f740b1f",
   "metadata": {},
   "outputs": [],
   "source": [
    "import numpy as np\n",
    "import pandas as pd\n",
    "import cv2\n",
    "import pytesseract\n",
    "\n",
    "import os\n",
    "from glob import glob\n",
    "from tqdm import tqdm\n",
    "\n",
    "import warnings\n",
    "warnings.filterwarnings('ignore')"
   ]
  },
  {
   "cell_type": "code",
   "execution_count": 2,
   "id": "780bffa3-85a7-4bdf-bbbe-e30def0e829e",
   "metadata": {},
   "outputs": [],
   "source": [
    "imgPaths=glob('./Selected/*.jpeg')"
   ]
  },
  {
   "cell_type": "code",
   "execution_count": 6,
   "id": "a0357829-eece-4253-93fd-fe3258e6fadc",
   "metadata": {},
   "outputs": [
    {
     "name": "stderr",
     "output_type": "stream",
     "text": [
      "Business Cards: 100%|████████████████████████████████████████████████████████████████| 293/293 [02:34<00:00,  1.90it/s]\n"
     ]
    }
   ],
   "source": [
    "allBusinessCard=pd.DataFrame(columns=['id','text'])\n",
    "\n",
    "# for imgPath in imgPaths: \n",
    "for imgPath in tqdm(imgPaths,desc='Business Cards'):\n",
    "    # imgPath=imgPaths[54]\n",
    "    _ , filename=os.path.split(imgPath)\n",
    "    # os.path.split(imgPath) returns ('./Selected', '000.jpeg')\n",
    "    # n Python, _ is a convention that means: “I don’t care about this value.”\n",
    "    \n",
    "    #-> Exract data and text\n",
    "    image=cv2.imread(imgPath)\n",
    "    data=pytesseract.image_to_data(image)\n",
    "    # Lambda function receives a list seperates by \\n and each element containing multiple \\t \n",
    "    # So we seperate each element upto a table entry level\n",
    "    dataList= list(map(lambda x:x.split('\\t'),data.split('\\n')))\n",
    "    df=pd.DataFrame(dataList[1:],columns=dataList[0])\n",
    "    df.dropna(inplace=True)\n",
    "    df['conf']=df['conf'].astype(float)\n",
    "    df['conf']=df['conf'].astype(int)\n",
    "    \n",
    "    # usefulData=df.query('conf>=30')\n",
    "    usefulData=df[df['conf'] >= 30]\n",
    "    \n",
    "    #DataFrame\n",
    "    businessCard=pd.DataFrame()\n",
    "    businessCard['text']=usefulData['text']\n",
    "    businessCard['id']=filename\n",
    "\n",
    "    #Concatenation\n",
    "    allBusinessCard=pd.concat((allBusinessCard,businessCard))\n"
   ]
  },
  {
   "cell_type": "code",
   "execution_count": 5,
   "id": "d44f067b-e9fa-4b1e-8cc7-985636e7a954",
   "metadata": {},
   "outputs": [],
   "source": [
    "allBusinessCard.to_csv('BusinessCard.csv',index=False)"
   ]
  },
  {
   "cell_type": "code",
   "execution_count": null,
   "id": "0339993b-ec3b-45ea-a16a-3c80612776df",
   "metadata": {},
   "outputs": [],
   "source": []
  },
  {
   "cell_type": "code",
   "execution_count": null,
   "id": "0be628dc-f778-4df6-9424-025f56e28ed7",
   "metadata": {},
   "outputs": [],
   "source": []
  }
 ],
 "metadata": {
  "kernelspec": {
   "display_name": "Python 3 (ipykernel)",
   "language": "python",
   "name": "python3"
  },
  "language_info": {
   "codemirror_mode": {
    "name": "ipython",
    "version": 3
   },
   "file_extension": ".py",
   "mimetype": "text/x-python",
   "name": "python",
   "nbconvert_exporter": "python",
   "pygments_lexer": "ipython3",
   "version": "3.13.5"
  }
 },
 "nbformat": 4,
 "nbformat_minor": 5
}
